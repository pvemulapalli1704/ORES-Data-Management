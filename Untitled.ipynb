{
  "nbformat": 4,
  "nbformat_minor": 0,
  "metadata": {
    "colab": {
      "provenance": []
    },
    "kernelspec": {
      "name": "python3",
      "display_name": "Python 3"
    },
    "language_info": {
      "name": "python"
    }
  },
  "cells": [
    {
      "cell_type": "code",
      "execution_count": 1,
      "metadata": {
        "id": "rq_C58S0G6li"
      },
      "outputs": [],
      "source": [
        "import pandas as pd\n",
        "import numpy as np\n"
      ]
    },
    {
      "cell_type": "code",
      "source": [
        "from google.colab import data_table\n",
        "data_table.enable_dataframe_formatter()"
      ],
      "metadata": {
        "id": "6d-_arv1G-eQ"
      },
      "execution_count": 2,
      "outputs": []
    },
    {
      "cell_type": "code",
      "source": [
        "from google.colab import files\n",
        "\n",
        "uploaded = files.upload()\n",
        "\n",
        "for fn in uploaded.keys():\n",
        "  print('User uploaded file \"{name}\" with length {length} bytes'.format(\n",
        "      name=fn, length=len(uploaded[fn])))"
      ],
      "metadata": {
        "id": "UN7cGdkCINKG",
        "outputId": "c3739753-3dae-41d9-a73d-a77ba2361e03",
        "colab": {
          "base_uri": "https://localhost:8080/",
          "height": 90
        }
      },
      "execution_count": 3,
      "outputs": [
        {
          "output_type": "display_data",
          "data": {
            "text/plain": [
              "<IPython.core.display.HTML object>"
            ],
            "text/html": [
              "\n",
              "     <input type=\"file\" id=\"files-826a8f0a-7fd4-40a6-91f7-130d07b40388\" name=\"files[]\" multiple disabled\n",
              "        style=\"border:none\" />\n",
              "     <output id=\"result-826a8f0a-7fd4-40a6-91f7-130d07b40388\">\n",
              "      Upload widget is only available when the cell has been executed in the\n",
              "      current browser session. Please rerun this cell to enable.\n",
              "      </output>\n",
              "      <script>// Copyright 2017 Google LLC\n",
              "//\n",
              "// Licensed under the Apache License, Version 2.0 (the \"License\");\n",
              "// you may not use this file except in compliance with the License.\n",
              "// You may obtain a copy of the License at\n",
              "//\n",
              "//      http://www.apache.org/licenses/LICENSE-2.0\n",
              "//\n",
              "// Unless required by applicable law or agreed to in writing, software\n",
              "// distributed under the License is distributed on an \"AS IS\" BASIS,\n",
              "// WITHOUT WARRANTIES OR CONDITIONS OF ANY KIND, either express or implied.\n",
              "// See the License for the specific language governing permissions and\n",
              "// limitations under the License.\n",
              "\n",
              "/**\n",
              " * @fileoverview Helpers for google.colab Python module.\n",
              " */\n",
              "(function(scope) {\n",
              "function span(text, styleAttributes = {}) {\n",
              "  const element = document.createElement('span');\n",
              "  element.textContent = text;\n",
              "  for (const key of Object.keys(styleAttributes)) {\n",
              "    element.style[key] = styleAttributes[key];\n",
              "  }\n",
              "  return element;\n",
              "}\n",
              "\n",
              "// Max number of bytes which will be uploaded at a time.\n",
              "const MAX_PAYLOAD_SIZE = 100 * 1024;\n",
              "\n",
              "function _uploadFiles(inputId, outputId) {\n",
              "  const steps = uploadFilesStep(inputId, outputId);\n",
              "  const outputElement = document.getElementById(outputId);\n",
              "  // Cache steps on the outputElement to make it available for the next call\n",
              "  // to uploadFilesContinue from Python.\n",
              "  outputElement.steps = steps;\n",
              "\n",
              "  return _uploadFilesContinue(outputId);\n",
              "}\n",
              "\n",
              "// This is roughly an async generator (not supported in the browser yet),\n",
              "// where there are multiple asynchronous steps and the Python side is going\n",
              "// to poll for completion of each step.\n",
              "// This uses a Promise to block the python side on completion of each step,\n",
              "// then passes the result of the previous step as the input to the next step.\n",
              "function _uploadFilesContinue(outputId) {\n",
              "  const outputElement = document.getElementById(outputId);\n",
              "  const steps = outputElement.steps;\n",
              "\n",
              "  const next = steps.next(outputElement.lastPromiseValue);\n",
              "  return Promise.resolve(next.value.promise).then((value) => {\n",
              "    // Cache the last promise value to make it available to the next\n",
              "    // step of the generator.\n",
              "    outputElement.lastPromiseValue = value;\n",
              "    return next.value.response;\n",
              "  });\n",
              "}\n",
              "\n",
              "/**\n",
              " * Generator function which is called between each async step of the upload\n",
              " * process.\n",
              " * @param {string} inputId Element ID of the input file picker element.\n",
              " * @param {string} outputId Element ID of the output display.\n",
              " * @return {!Iterable<!Object>} Iterable of next steps.\n",
              " */\n",
              "function* uploadFilesStep(inputId, outputId) {\n",
              "  const inputElement = document.getElementById(inputId);\n",
              "  inputElement.disabled = false;\n",
              "\n",
              "  const outputElement = document.getElementById(outputId);\n",
              "  outputElement.innerHTML = '';\n",
              "\n",
              "  const pickedPromise = new Promise((resolve) => {\n",
              "    inputElement.addEventListener('change', (e) => {\n",
              "      resolve(e.target.files);\n",
              "    });\n",
              "  });\n",
              "\n",
              "  const cancel = document.createElement('button');\n",
              "  inputElement.parentElement.appendChild(cancel);\n",
              "  cancel.textContent = 'Cancel upload';\n",
              "  const cancelPromise = new Promise((resolve) => {\n",
              "    cancel.onclick = () => {\n",
              "      resolve(null);\n",
              "    };\n",
              "  });\n",
              "\n",
              "  // Wait for the user to pick the files.\n",
              "  const files = yield {\n",
              "    promise: Promise.race([pickedPromise, cancelPromise]),\n",
              "    response: {\n",
              "      action: 'starting',\n",
              "    }\n",
              "  };\n",
              "\n",
              "  cancel.remove();\n",
              "\n",
              "  // Disable the input element since further picks are not allowed.\n",
              "  inputElement.disabled = true;\n",
              "\n",
              "  if (!files) {\n",
              "    return {\n",
              "      response: {\n",
              "        action: 'complete',\n",
              "      }\n",
              "    };\n",
              "  }\n",
              "\n",
              "  for (const file of files) {\n",
              "    const li = document.createElement('li');\n",
              "    li.append(span(file.name, {fontWeight: 'bold'}));\n",
              "    li.append(span(\n",
              "        `(${file.type || 'n/a'}) - ${file.size} bytes, ` +\n",
              "        `last modified: ${\n",
              "            file.lastModifiedDate ? file.lastModifiedDate.toLocaleDateString() :\n",
              "                                    'n/a'} - `));\n",
              "    const percent = span('0% done');\n",
              "    li.appendChild(percent);\n",
              "\n",
              "    outputElement.appendChild(li);\n",
              "\n",
              "    const fileDataPromise = new Promise((resolve) => {\n",
              "      const reader = new FileReader();\n",
              "      reader.onload = (e) => {\n",
              "        resolve(e.target.result);\n",
              "      };\n",
              "      reader.readAsArrayBuffer(file);\n",
              "    });\n",
              "    // Wait for the data to be ready.\n",
              "    let fileData = yield {\n",
              "      promise: fileDataPromise,\n",
              "      response: {\n",
              "        action: 'continue',\n",
              "      }\n",
              "    };\n",
              "\n",
              "    // Use a chunked sending to avoid message size limits. See b/62115660.\n",
              "    let position = 0;\n",
              "    do {\n",
              "      const length = Math.min(fileData.byteLength - position, MAX_PAYLOAD_SIZE);\n",
              "      const chunk = new Uint8Array(fileData, position, length);\n",
              "      position += length;\n",
              "\n",
              "      const base64 = btoa(String.fromCharCode.apply(null, chunk));\n",
              "      yield {\n",
              "        response: {\n",
              "          action: 'append',\n",
              "          file: file.name,\n",
              "          data: base64,\n",
              "        },\n",
              "      };\n",
              "\n",
              "      let percentDone = fileData.byteLength === 0 ?\n",
              "          100 :\n",
              "          Math.round((position / fileData.byteLength) * 100);\n",
              "      percent.textContent = `${percentDone}% done`;\n",
              "\n",
              "    } while (position < fileData.byteLength);\n",
              "  }\n",
              "\n",
              "  // All done.\n",
              "  yield {\n",
              "    response: {\n",
              "      action: 'complete',\n",
              "    }\n",
              "  };\n",
              "}\n",
              "\n",
              "scope.google = scope.google || {};\n",
              "scope.google.colab = scope.google.colab || {};\n",
              "scope.google.colab._files = {\n",
              "  _uploadFiles,\n",
              "  _uploadFilesContinue,\n",
              "};\n",
              "})(self);\n",
              "</script> "
            ]
          },
          "metadata": {}
        },
        {
          "output_type": "stream",
          "name": "stdout",
          "text": [
            "Saving Nutrition__Physical_Activity__and_Obesity.xlsx to Nutrition__Physical_Activity__and_Obesity.xlsx\n",
            "User uploaded file \"Nutrition__Physical_Activity__and_Obesity.xlsx\" with length 8893776 bytes\n"
          ]
        }
      ]
    },
    {
      "cell_type": "code",
      "source": [
        "df = pd.read_excel(\"Nutrition__Physical_Activity__and_Obesity.xlsx\")"
      ],
      "metadata": {
        "id": "GwuBWxEfKZn5"
      },
      "execution_count": 4,
      "outputs": []
    },
    {
      "cell_type": "code",
      "source": [
        "df.head"
      ],
      "metadata": {
        "id": "zBddr2SoL8hE",
        "colab": {
          "base_uri": "https://localhost:8080/"
        },
        "outputId": "89292051-95c5-46c4-a2cb-8c3d122d2c2c"
      },
      "execution_count": 5,
      "outputs": [
        {
          "output_type": "execute_result",
          "data": {
            "text/plain": [
              "<bound method NDFrame.head of        YearStart  YearEnd LocationAbbr  LocationDesc  \\\n",
              "0           2020     2020           US      National   \n",
              "1           2014     2014           GU          Guam   \n",
              "2           2013     2013           US      National   \n",
              "3           2013     2013           US      National   \n",
              "4           2015     2015           US      National   \n",
              "...          ...      ...          ...           ...   \n",
              "88624       2021     2021           ND  North Dakota   \n",
              "88625       2021     2021           PR   Puerto Rico   \n",
              "88626       2021     2021           WI     Wisconsin   \n",
              "88627       2021     2021           UT          Utah   \n",
              "88628       2021     2021           US      National   \n",
              "\n",
              "                                       Datasource                    Class  \\\n",
              "0      Behavioral Risk Factor Surveillance System        Physical Activity   \n",
              "1      Behavioral Risk Factor Surveillance System  Obesity / Weight Status   \n",
              "2      Behavioral Risk Factor Surveillance System  Obesity / Weight Status   \n",
              "3      Behavioral Risk Factor Surveillance System  Obesity / Weight Status   \n",
              "4      Behavioral Risk Factor Surveillance System        Physical Activity   \n",
              "...                                           ...                      ...   \n",
              "88624  Behavioral Risk Factor Surveillance System    Fruits and Vegetables   \n",
              "88625  Behavioral Risk Factor Surveillance System        Physical Activity   \n",
              "88626  Behavioral Risk Factor Surveillance System        Physical Activity   \n",
              "88627  Behavioral Risk Factor Surveillance System    Fruits and Vegetables   \n",
              "88628  Behavioral Risk Factor Surveillance System        Physical Activity   \n",
              "\n",
              "                                  Topic  \\\n",
              "0          Physical Activity - Behavior   \n",
              "1               Obesity / Weight Status   \n",
              "2               Obesity / Weight Status   \n",
              "3               Obesity / Weight Status   \n",
              "4          Physical Activity - Behavior   \n",
              "...                                 ...   \n",
              "88624  Fruits and Vegetables - Behavior   \n",
              "88625      Physical Activity - Behavior   \n",
              "88626      Physical Activity - Behavior   \n",
              "88627  Fruits and Vegetables - Behavior   \n",
              "88628      Physical Activity - Behavior   \n",
              "\n",
              "                                                Question  Data_Value_Unit  \\\n",
              "0      Percent of adults who engage in no leisure-tim...              NaN   \n",
              "1      Percent of adults aged 18 years and older who ...              NaN   \n",
              "2      Percent of adults aged 18 years and older who ...              NaN   \n",
              "3      Percent of adults aged 18 years and older who ...              NaN   \n",
              "4      Percent of adults who achieve at least 300 min...              NaN   \n",
              "...                                                  ...              ...   \n",
              "88624  Percent of adults who report consuming vegetab...              NaN   \n",
              "88625  Percent of adults who engage in no leisure-tim...              NaN   \n",
              "88626  Percent of adults who engage in no leisure-tim...              NaN   \n",
              "88627  Percent of adults who report consuming fruit l...              NaN   \n",
              "88628  Percent of adults who engage in no leisure-tim...              NaN   \n",
              "\n",
              "      Data_Value_Type  ...                                GeoLocation  \\\n",
              "0               Value  ...                                        NaN   \n",
              "1               Value  ...                    (13.444304, 144.793731)   \n",
              "2               Value  ...                                        NaN   \n",
              "3               Value  ...                                        NaN   \n",
              "4               Value  ...                                        NaN   \n",
              "...               ...  ...                                        ...   \n",
              "88624           Value  ...   (47.47531977900047, -100.11842104899966)   \n",
              "88625           Value  ...                    (18.220833, -66.590149)   \n",
              "88626           Value  ...    (44.39319117400049, -89.81637074199966)   \n",
              "88627           Value  ...  (39.360700171000474, -111.58713063499971)   \n",
              "88628           Value  ...                                        NaN   \n",
              "\n",
              "       ClassID TopicID QuestionID  DataValueTypeID  LocationID  \\\n",
              "0           PA     PA1       Q047            VALUE          59   \n",
              "1          OWS    OWS1       Q036            VALUE          66   \n",
              "2          OWS    OWS1       Q036            VALUE          59   \n",
              "3          OWS    OWS1       Q037            VALUE          59   \n",
              "4           PA     PA1       Q045            VALUE          59   \n",
              "...        ...     ...        ...              ...         ...   \n",
              "88624       FV     FV1       Q019            VALUE          38   \n",
              "88625       PA     PA1       Q047            VALUE          72   \n",
              "88626       PA     PA1       Q047            VALUE          55   \n",
              "88627       FV     FV1       Q018            VALUE          49   \n",
              "88628       PA     PA1       Q047            VALUE          59   \n",
              "\n",
              "       StratificationCategory1       Stratification1  \\\n",
              "0               Race/Ethnicity              Hispanic   \n",
              "1                    Education  High school graduate   \n",
              "2                       Income     $50,000 - $74,999   \n",
              "3                       Income     Data not reported   \n",
              "4                       Income     Less than $15,000   \n",
              "...                        ...                   ...   \n",
              "88624                   Gender                  Male   \n",
              "88625                   Income     $35,000 - $49,999   \n",
              "88626                   Income    $75,000 or greater   \n",
              "88627                   Income     $50,000 - $74,999   \n",
              "88628                   Income     Data not reported   \n",
              "\n",
              "      StratificationCategoryId1 StratificationID1  \n",
              "0                          RACE           RACEHIS  \n",
              "1                           EDU         EDUHSGRAD  \n",
              "2                           INC           INC5075  \n",
              "3                           INC             INCNR  \n",
              "4                           INC         INCLESS15  \n",
              "...                         ...               ...  \n",
              "88624                       GEN              MALE  \n",
              "88625                       INC           INC3550  \n",
              "88626                       INC         INC75PLUS  \n",
              "88627                       INC           INC5075  \n",
              "88628                       INC             INCNR  \n",
              "\n",
              "[88629 rows x 33 columns]>"
            ]
          },
          "metadata": {},
          "execution_count": 5
        }
      ]
    },
    {
      "cell_type": "code",
      "source": [
        "try:\n",
        "    # Loading the dataset\n",
        "    # Assuming the dataset has a column that is less relevant, for example, 'Data_Value_Footnote_Symbol'\n",
        "    if 'Data_Value_Footnote_Symbol' in df.columns:\n",
        "        df = df.drop('Data_Value_Footnote_Symbol', axis=1)\n",
        "        # Display the first few rows to verify the column is dropped\n",
        "        result = df.head()\n",
        "    else:\n",
        "        result = \"Column to drop not found.\"\n",
        "    success = True\n",
        "except Exception as e:\n",
        "    result = str(e)\n",
        "    success = False\n",
        "\n"
      ],
      "metadata": {
        "id": "Ate0UkasMr6Z"
      },
      "execution_count": 6,
      "outputs": []
    },
    {
      "cell_type": "code",
      "source": [
        "print(f\"Result is {result}\")"
      ],
      "metadata": {
        "colab": {
          "base_uri": "https://localhost:8080/"
        },
        "id": "Nzsa6NNnOW8R",
        "outputId": "20dad6e0-3ca1-4f52-9efc-1d89cea9d3d0"
      },
      "execution_count": 7,
      "outputs": [
        {
          "output_type": "stream",
          "name": "stdout",
          "text": [
            "Result is    YearStart  YearEnd LocationAbbr LocationDesc  \\\n",
            "0       2020     2020           US     National   \n",
            "1       2014     2014           GU         Guam   \n",
            "2       2013     2013           US     National   \n",
            "3       2013     2013           US     National   \n",
            "4       2015     2015           US     National   \n",
            "\n",
            "                                   Datasource                    Class  \\\n",
            "0  Behavioral Risk Factor Surveillance System        Physical Activity   \n",
            "1  Behavioral Risk Factor Surveillance System  Obesity / Weight Status   \n",
            "2  Behavioral Risk Factor Surveillance System  Obesity / Weight Status   \n",
            "3  Behavioral Risk Factor Surveillance System  Obesity / Weight Status   \n",
            "4  Behavioral Risk Factor Surveillance System        Physical Activity   \n",
            "\n",
            "                          Topic  \\\n",
            "0  Physical Activity - Behavior   \n",
            "1       Obesity / Weight Status   \n",
            "2       Obesity / Weight Status   \n",
            "3       Obesity / Weight Status   \n",
            "4  Physical Activity - Behavior   \n",
            "\n",
            "                                            Question  Data_Value_Unit  \\\n",
            "0  Percent of adults who engage in no leisure-tim...              NaN   \n",
            "1  Percent of adults aged 18 years and older who ...              NaN   \n",
            "2  Percent of adults aged 18 years and older who ...              NaN   \n",
            "3  Percent of adults aged 18 years and older who ...              NaN   \n",
            "4  Percent of adults who achieve at least 300 min...              NaN   \n",
            "\n",
            "  Data_Value_Type  ...              GeoLocation  ClassID TopicID  QuestionID  \\\n",
            "0           Value  ...                      NaN       PA     PA1        Q047   \n",
            "1           Value  ...  (13.444304, 144.793731)      OWS    OWS1        Q036   \n",
            "2           Value  ...                      NaN      OWS    OWS1        Q036   \n",
            "3           Value  ...                      NaN      OWS    OWS1        Q037   \n",
            "4           Value  ...                      NaN       PA     PA1        Q045   \n",
            "\n",
            "   DataValueTypeID  LocationID StratificationCategory1       Stratification1  \\\n",
            "0            VALUE          59          Race/Ethnicity              Hispanic   \n",
            "1            VALUE          66               Education  High school graduate   \n",
            "2            VALUE          59                  Income     $50,000 - $74,999   \n",
            "3            VALUE          59                  Income     Data not reported   \n",
            "4            VALUE          59                  Income     Less than $15,000   \n",
            "\n",
            "  StratificationCategoryId1 StratificationID1  \n",
            "0                      RACE           RACEHIS  \n",
            "1                       EDU         EDUHSGRAD  \n",
            "2                       INC           INC5075  \n",
            "3                       INC             INCNR  \n",
            "4                       INC         INCLESS15  \n",
            "\n",
            "[5 rows x 32 columns]\n"
          ]
        }
      ]
    },
    {
      "cell_type": "code",
      "source": [
        "# 2. Transforming Data Types\n",
        "# Transforming 'YearStart' and 'YearEnd' from float to int (assuming they are years and should not have decimal values)\n",
        "df['YearStart'] = df['YearStart'].astype(int, errors='ignore')\n",
        "df['YearEnd'] = df['YearEnd'].astype(int, errors='ignore')\n"
      ],
      "metadata": {
        "id": "EfCxOULLOfns"
      },
      "execution_count": 8,
      "outputs": []
    },
    {
      "cell_type": "code",
      "source": [
        "# 3. Dealing with NULL or Infinite Values\n",
        "# Replacing NULL values in 'Data_Value' with the mean (assuming this is a meaningful substitution for the analysis)\n",
        "df['Data_Value'] = df['Data_Value'].fillna(df['Data_Value'].mean())\n"
      ],
      "metadata": {
        "id": "HCjoyX5VQve8"
      },
      "execution_count": 9,
      "outputs": []
    },
    {
      "cell_type": "code",
      "source": [
        "# 4. Renaming Columns\n",
        "# Renaming 'LocationAbbr' to 'LocationAbbreviation'\n",
        "df = df.rename(columns={'LocationAbbr': 'LocationAbbreviation'})\n"
      ],
      "metadata": {
        "id": "981r4e_YQ2uC"
      },
      "execution_count": 10,
      "outputs": []
    },
    {
      "cell_type": "code",
      "source": [
        "# 5. Creating a Calculated Field\n",
        "# Creating a new column 'Data_Value_Range' as the range of the confidence interval\n",
        "# (assuming 'High_Confidence_Limit' and 'Low_Confidence_Limit' exist)\n",
        "df['Data_Value_Range'] = df['High_Confidence_Limit'] - df['Low_Confidence_Limit']\n",
        "\n"
      ],
      "metadata": {
        "id": "nrhV5kgPQ89-"
      },
      "execution_count": 11,
      "outputs": []
    },
    {
      "cell_type": "code",
      "source": [
        "# 6. Remove Duplicate Rows\n",
        "df = df.drop_duplicates()\n",
        "\n"
      ],
      "metadata": {
        "id": "RKuJi-oIQ_0j"
      },
      "execution_count": 12,
      "outputs": []
    },
    {
      "cell_type": "code",
      "source": [
        "print(f\"After dropping duplicates{df.head()}\")\n",
        "\n",
        "\n"
      ],
      "metadata": {
        "colab": {
          "base_uri": "https://localhost:8080/"
        },
        "id": "EP7-fbn6RH9q",
        "outputId": "81790591-5239-4624-f1d0-e0a8ea3c1b2e"
      },
      "execution_count": 13,
      "outputs": [
        {
          "output_type": "stream",
          "name": "stdout",
          "text": [
            "After dropping duplicates   YearStart  YearEnd LocationAbbreviation LocationDesc  \\\n",
            "0       2020     2020                   US     National   \n",
            "1       2014     2014                   GU         Guam   \n",
            "2       2013     2013                   US     National   \n",
            "3       2013     2013                   US     National   \n",
            "4       2015     2015                   US     National   \n",
            "\n",
            "                                   Datasource                    Class  \\\n",
            "0  Behavioral Risk Factor Surveillance System        Physical Activity   \n",
            "1  Behavioral Risk Factor Surveillance System  Obesity / Weight Status   \n",
            "2  Behavioral Risk Factor Surveillance System  Obesity / Weight Status   \n",
            "3  Behavioral Risk Factor Surveillance System  Obesity / Weight Status   \n",
            "4  Behavioral Risk Factor Surveillance System        Physical Activity   \n",
            "\n",
            "                          Topic  \\\n",
            "0  Physical Activity - Behavior   \n",
            "1       Obesity / Weight Status   \n",
            "2       Obesity / Weight Status   \n",
            "3       Obesity / Weight Status   \n",
            "4  Physical Activity - Behavior   \n",
            "\n",
            "                                            Question  Data_Value_Unit  \\\n",
            "0  Percent of adults who engage in no leisure-tim...              NaN   \n",
            "1  Percent of adults aged 18 years and older who ...              NaN   \n",
            "2  Percent of adults aged 18 years and older who ...              NaN   \n",
            "3  Percent of adults aged 18 years and older who ...              NaN   \n",
            "4  Percent of adults who achieve at least 300 min...              NaN   \n",
            "\n",
            "  Data_Value_Type  ...  ClassID  TopicID QuestionID  DataValueTypeID  \\\n",
            "0           Value  ...       PA      PA1       Q047            VALUE   \n",
            "1           Value  ...      OWS     OWS1       Q036            VALUE   \n",
            "2           Value  ...      OWS     OWS1       Q036            VALUE   \n",
            "3           Value  ...      OWS     OWS1       Q037            VALUE   \n",
            "4           Value  ...       PA      PA1       Q045            VALUE   \n",
            "\n",
            "   LocationID  StratificationCategory1       Stratification1  \\\n",
            "0          59           Race/Ethnicity              Hispanic   \n",
            "1          66                Education  High school graduate   \n",
            "2          59                   Income     $50,000 - $74,999   \n",
            "3          59                   Income     Data not reported   \n",
            "4          59                   Income     Less than $15,000   \n",
            "\n",
            "  StratificationCategoryId1 StratificationID1 Data_Value_Range  \n",
            "0                      RACE           RACEHIS              2.4  \n",
            "1                       EDU         EDUHSGRAD              7.6  \n",
            "2                       INC           INC5075              1.4  \n",
            "3                       INC             INCNR              1.6  \n",
            "4                       INC         INCLESS15              2.0  \n",
            "\n",
            "[5 rows x 33 columns]\n"
          ]
        }
      ]
    },
    {
      "cell_type": "code",
      "source": [
        "# Drop rows where 'Data_Value' is null\n",
        "df_cleaned = df.dropna(subset=['Data_Value'])\n",
        "\n"
      ],
      "metadata": {
        "id": "Enl4dSYcROJb"
      },
      "execution_count": 14,
      "outputs": []
    },
    {
      "cell_type": "code",
      "source": [
        "print(f\"After dropping NAs{df_cleaned.head()}\")\n",
        "df = df_cleaned\n"
      ],
      "metadata": {
        "colab": {
          "base_uri": "https://localhost:8080/"
        },
        "id": "JgctKR_wRWgH",
        "outputId": "c299389b-f985-48bc-a16a-7d08aba3b840"
      },
      "execution_count": 15,
      "outputs": [
        {
          "output_type": "stream",
          "name": "stdout",
          "text": [
            "After dropping NAs   YearStart  YearEnd LocationAbbreviation LocationDesc  \\\n",
            "0       2020     2020                   US     National   \n",
            "1       2014     2014                   GU         Guam   \n",
            "2       2013     2013                   US     National   \n",
            "3       2013     2013                   US     National   \n",
            "4       2015     2015                   US     National   \n",
            "\n",
            "                                   Datasource                    Class  \\\n",
            "0  Behavioral Risk Factor Surveillance System        Physical Activity   \n",
            "1  Behavioral Risk Factor Surveillance System  Obesity / Weight Status   \n",
            "2  Behavioral Risk Factor Surveillance System  Obesity / Weight Status   \n",
            "3  Behavioral Risk Factor Surveillance System  Obesity / Weight Status   \n",
            "4  Behavioral Risk Factor Surveillance System        Physical Activity   \n",
            "\n",
            "                          Topic  \\\n",
            "0  Physical Activity - Behavior   \n",
            "1       Obesity / Weight Status   \n",
            "2       Obesity / Weight Status   \n",
            "3       Obesity / Weight Status   \n",
            "4  Physical Activity - Behavior   \n",
            "\n",
            "                                            Question  Data_Value_Unit  \\\n",
            "0  Percent of adults who engage in no leisure-tim...              NaN   \n",
            "1  Percent of adults aged 18 years and older who ...              NaN   \n",
            "2  Percent of adults aged 18 years and older who ...              NaN   \n",
            "3  Percent of adults aged 18 years and older who ...              NaN   \n",
            "4  Percent of adults who achieve at least 300 min...              NaN   \n",
            "\n",
            "  Data_Value_Type  ...  ClassID  TopicID QuestionID  DataValueTypeID  \\\n",
            "0           Value  ...       PA      PA1       Q047            VALUE   \n",
            "1           Value  ...      OWS     OWS1       Q036            VALUE   \n",
            "2           Value  ...      OWS     OWS1       Q036            VALUE   \n",
            "3           Value  ...      OWS     OWS1       Q037            VALUE   \n",
            "4           Value  ...       PA      PA1       Q045            VALUE   \n",
            "\n",
            "   LocationID  StratificationCategory1       Stratification1  \\\n",
            "0          59           Race/Ethnicity              Hispanic   \n",
            "1          66                Education  High school graduate   \n",
            "2          59                   Income     $50,000 - $74,999   \n",
            "3          59                   Income     Data not reported   \n",
            "4          59                   Income     Less than $15,000   \n",
            "\n",
            "  StratificationCategoryId1 StratificationID1 Data_Value_Range  \n",
            "0                      RACE           RACEHIS              2.4  \n",
            "1                       EDU         EDUHSGRAD              7.6  \n",
            "2                       INC           INC5075              1.4  \n",
            "3                       INC             INCNR              1.6  \n",
            "4                       INC         INCLESS15              2.0  \n",
            "\n",
            "[5 rows x 33 columns]\n"
          ]
        }
      ]
    },
    {
      "cell_type": "markdown",
      "source": [
        "# Let's apply the IQR method to detect and filter outliers in the 'Data_Value' column using pandas.\n",
        "# First, we calculate the IQR for 'Data_Value'.\n"
      ],
      "metadata": {
        "id": "JZZfKI-JnUnn"
      }
    },
    {
      "cell_type": "code",
      "source": [
        "\n",
        "# Calculate Q1 (25th percentile) and Q3 (75th percentile)\n",
        "Q1 = df_cleaned['Data_Value'].quantile(0.25)\n",
        "Q3 = df_cleaned['Data_Value'].quantile(0.75)\n",
        "IQR = Q3 - Q1\n",
        "\n"
      ],
      "metadata": {
        "id": "PVN-KoqxRgbZ"
      },
      "execution_count": 16,
      "outputs": []
    },
    {
      "cell_type": "code",
      "source": [
        "# Define bounds for detecting outliers\n",
        "lower_bound = Q1 - 1.5 * IQR\n",
        "upper_bound = Q3 + 1.5 * IQR\n",
        "print(f\"lower_bound is{lower_bound} and upper_bound is {upper_bound}\")\n",
        "# Filter out outliers\n",
        "df_filtered = df_cleaned[(df_cleaned['Data_Value'] >= lower_bound) & (df_cleaned['Data_Value'] <= upper_bound)]\n"
      ],
      "metadata": {
        "colab": {
          "base_uri": "https://localhost:8080/"
        },
        "id": "frCjZJ8yR0rh",
        "outputId": "ba3abab2-f742-4f79-90d4-63314ff36497"
      },
      "execution_count": 17,
      "outputs": [
        {
          "output_type": "stream",
          "name": "stdout",
          "text": [
            "lower_bound is8.55 and upper_bound is 52.949999999999996\n"
          ]
        }
      ]
    },
    {
      "cell_type": "code",
      "source": [
        "print(f\"After outliers filter {df_filtered.head()}\")"
      ],
      "metadata": {
        "colab": {
          "base_uri": "https://localhost:8080/"
        },
        "id": "0EImfh8ISc8t",
        "outputId": "3b9a9c20-3db4-482c-e4e5-65496419f8d2"
      },
      "execution_count": 18,
      "outputs": [
        {
          "output_type": "stream",
          "name": "stdout",
          "text": [
            "After outliers filter    YearStart  YearEnd LocationAbbreviation LocationDesc  \\\n",
            "0       2020     2020                   US     National   \n",
            "1       2014     2014                   GU         Guam   \n",
            "2       2013     2013                   US     National   \n",
            "3       2013     2013                   US     National   \n",
            "4       2015     2015                   US     National   \n",
            "\n",
            "                                   Datasource                    Class  \\\n",
            "0  Behavioral Risk Factor Surveillance System        Physical Activity   \n",
            "1  Behavioral Risk Factor Surveillance System  Obesity / Weight Status   \n",
            "2  Behavioral Risk Factor Surveillance System  Obesity / Weight Status   \n",
            "3  Behavioral Risk Factor Surveillance System  Obesity / Weight Status   \n",
            "4  Behavioral Risk Factor Surveillance System        Physical Activity   \n",
            "\n",
            "                          Topic  \\\n",
            "0  Physical Activity - Behavior   \n",
            "1       Obesity / Weight Status   \n",
            "2       Obesity / Weight Status   \n",
            "3       Obesity / Weight Status   \n",
            "4  Physical Activity - Behavior   \n",
            "\n",
            "                                            Question  Data_Value_Unit  \\\n",
            "0  Percent of adults who engage in no leisure-tim...              NaN   \n",
            "1  Percent of adults aged 18 years and older who ...              NaN   \n",
            "2  Percent of adults aged 18 years and older who ...              NaN   \n",
            "3  Percent of adults aged 18 years and older who ...              NaN   \n",
            "4  Percent of adults who achieve at least 300 min...              NaN   \n",
            "\n",
            "  Data_Value_Type  ...  ClassID  TopicID QuestionID  DataValueTypeID  \\\n",
            "0           Value  ...       PA      PA1       Q047            VALUE   \n",
            "1           Value  ...      OWS     OWS1       Q036            VALUE   \n",
            "2           Value  ...      OWS     OWS1       Q036            VALUE   \n",
            "3           Value  ...      OWS     OWS1       Q037            VALUE   \n",
            "4           Value  ...       PA      PA1       Q045            VALUE   \n",
            "\n",
            "   LocationID  StratificationCategory1       Stratification1  \\\n",
            "0          59           Race/Ethnicity              Hispanic   \n",
            "1          66                Education  High school graduate   \n",
            "2          59                   Income     $50,000 - $74,999   \n",
            "3          59                   Income     Data not reported   \n",
            "4          59                   Income     Less than $15,000   \n",
            "\n",
            "  StratificationCategoryId1 StratificationID1 Data_Value_Range  \n",
            "0                      RACE           RACEHIS              2.4  \n",
            "1                       EDU         EDUHSGRAD              7.6  \n",
            "2                       INC           INC5075              1.4  \n",
            "3                       INC             INCNR              1.6  \n",
            "4                       INC         INCLESS15              2.0  \n",
            "\n",
            "[5 rows x 33 columns]\n"
          ]
        }
      ]
    },
    {
      "cell_type": "markdown",
      "source": [
        "# Applying the IQR method to detect and filter outliers in another column.\n",
        "# This time, let's choose 'High_Confidence_Limit' as it's a numeric column that may contain outliers.\n",
        "\n",
        "# Calculate Q1 (25th percentile) and Q3 (75th percentile) for 'High_Confidence_Limit'\n"
      ],
      "metadata": {
        "id": "0JBsAdkWTdU0"
      }
    },
    {
      "cell_type": "code",
      "source": [
        "Q1_high = df_cleaned['High_Confidence_Limit'].quantile(0.25)\n",
        "Q3_high = df_cleaned['High_Confidence_Limit'].quantile(0.75)\n",
        "IQR_high = Q3_high - Q1_high\n"
      ],
      "metadata": {
        "id": "lZFpUQ0HTis4"
      },
      "execution_count": 19,
      "outputs": []
    },
    {
      "cell_type": "code",
      "source": [
        "# Define bounds for detecting outliers in 'High_Confidence_Limit'\n",
        "lower_bound_high = Q1_high - 1.5 * IQR_high\n",
        "upper_bound_high = Q3_high + 1.5 * IQR_high\n",
        "print(f\"lower_bound_high is{lower_bound_high} and upper_bound_high is {upper_bound_high}\")\n",
        "# Filter out outliers in 'High_Confidence_Limit'\n",
        "df_filtered_high = df_cleaned[(df_cleaned['High_Confidence_Limit'] >= lower_bound_high) &\n",
        "                              (df_cleaned['High_Confidence_Limit'] <= upper_bound_high)]\n"
      ],
      "metadata": {
        "colab": {
          "base_uri": "https://localhost:8080/"
        },
        "id": "oNqo_QxETwdV",
        "outputId": "5c0c745b-b565-4537-f2cb-256622691e26"
      },
      "execution_count": 20,
      "outputs": [
        {
          "output_type": "stream",
          "name": "stdout",
          "text": [
            "lower_bound_high is8.2 and upper_bound_high is 62.60000000000001\n"
          ]
        }
      ]
    },
    {
      "cell_type": "code",
      "source": [],
      "metadata": {
        "id": "OzAe3jV2iEZ5"
      },
      "execution_count": null,
      "outputs": []
    },
    {
      "cell_type": "code",
      "source": [
        "print(f\"After High_Confidence_Limit filtering {df_filtered_high.head()}\")"
      ],
      "metadata": {
        "colab": {
          "base_uri": "https://localhost:8080/"
        },
        "id": "lRE2BgVpT0BV",
        "outputId": "1977d117-f418-4d1b-c78a-b3fac43874e4"
      },
      "execution_count": 21,
      "outputs": [
        {
          "output_type": "stream",
          "name": "stdout",
          "text": [
            "After High_Confidence_Limit filtering    YearStart  YearEnd LocationAbbreviation LocationDesc  \\\n",
            "0       2020     2020                   US     National   \n",
            "1       2014     2014                   GU         Guam   \n",
            "2       2013     2013                   US     National   \n",
            "3       2013     2013                   US     National   \n",
            "4       2015     2015                   US     National   \n",
            "\n",
            "                                   Datasource                    Class  \\\n",
            "0  Behavioral Risk Factor Surveillance System        Physical Activity   \n",
            "1  Behavioral Risk Factor Surveillance System  Obesity / Weight Status   \n",
            "2  Behavioral Risk Factor Surveillance System  Obesity / Weight Status   \n",
            "3  Behavioral Risk Factor Surveillance System  Obesity / Weight Status   \n",
            "4  Behavioral Risk Factor Surveillance System        Physical Activity   \n",
            "\n",
            "                          Topic  \\\n",
            "0  Physical Activity - Behavior   \n",
            "1       Obesity / Weight Status   \n",
            "2       Obesity / Weight Status   \n",
            "3       Obesity / Weight Status   \n",
            "4  Physical Activity - Behavior   \n",
            "\n",
            "                                            Question  Data_Value_Unit  \\\n",
            "0  Percent of adults who engage in no leisure-tim...              NaN   \n",
            "1  Percent of adults aged 18 years and older who ...              NaN   \n",
            "2  Percent of adults aged 18 years and older who ...              NaN   \n",
            "3  Percent of adults aged 18 years and older who ...              NaN   \n",
            "4  Percent of adults who achieve at least 300 min...              NaN   \n",
            "\n",
            "  Data_Value_Type  ...  ClassID  TopicID QuestionID  DataValueTypeID  \\\n",
            "0           Value  ...       PA      PA1       Q047            VALUE   \n",
            "1           Value  ...      OWS     OWS1       Q036            VALUE   \n",
            "2           Value  ...      OWS     OWS1       Q036            VALUE   \n",
            "3           Value  ...      OWS     OWS1       Q037            VALUE   \n",
            "4           Value  ...       PA      PA1       Q045            VALUE   \n",
            "\n",
            "   LocationID  StratificationCategory1       Stratification1  \\\n",
            "0          59           Race/Ethnicity              Hispanic   \n",
            "1          66                Education  High school graduate   \n",
            "2          59                   Income     $50,000 - $74,999   \n",
            "3          59                   Income     Data not reported   \n",
            "4          59                   Income     Less than $15,000   \n",
            "\n",
            "  StratificationCategoryId1 StratificationID1 Data_Value_Range  \n",
            "0                      RACE           RACEHIS              2.4  \n",
            "1                       EDU         EDUHSGRAD              7.6  \n",
            "2                       INC           INC5075              1.4  \n",
            "3                       INC             INCNR              1.6  \n",
            "4                       INC         INCLESS15              2.0  \n",
            "\n",
            "[5 rows x 33 columns]\n"
          ]
        }
      ]
    },
    {
      "cell_type": "code",
      "source": [
        "df.to_excel('df_cleaned.xlsx', index = False)"
      ],
      "metadata": {
        "id": "3hv_PaInmWW4"
      },
      "execution_count": 22,
      "outputs": []
    }
  ]
}